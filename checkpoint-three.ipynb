{
    "cells": [
        {
            "attachments": {},
            "cell_type": "markdown",
            "metadata": {
                "azdata_cell_guid": "26037d32-2047-4157-81ef-595916bd66a0"
            },
            "source": [
                "# Checkpoint Three: Cleaning Data\n",
                "\n",
                "Now you are ready to clean your data. Before starting coding, provide the link to your dataset below.\n",
                "\n",
                "My dataset: https://www.kaggle.com/datasets/prosperchuks/health-dataset?resource=download&select=hypertension_data.csv\n",
                "\n",
                "Import the necessary libraries and create your dataframe(s)."
            ]
        },
        {
            "cell_type": "code",
            "execution_count": 2,
            "metadata": {
                "azdata_cell_guid": "e8adef8e-d0f2-4640-a179-5997f11e82ca"
            },
            "outputs": [],
            "source": [
                "import pandas as pd\n",
                "import numpy as np\n",
                "import seaborn as sns\n",
                "import matplotlib.pyplot as plt\n",
                "\n",
                "# Create three new dataframes for each csv\n",
                "diabetes_df = pd.read_csv(r\"diabetes_data.csv\")\n",
                "hypertension_df = pd.read_csv(r\"hypertension_data.csv\")\n",
                "stroke_df = pd.read_csv(r\"stroke_data.csv\")\n"
            ]
        },
        {
            "cell_type": "markdown",
            "metadata": {
                "azdata_cell_guid": "e172475a-c4ee-414a-8367-9965355dbba6"
            },
            "source": [
                "## Missing Data\n",
                "\n",
                "Test your dataset for missing data and handle it as needed. Make notes in the form of code comments as to your thought process."
            ]
        },
        {
            "cell_type": "code",
            "execution_count": 4,
            "metadata": {
                "azdata_cell_guid": "e1dc66ef-e471-4c27-92e7-ee878c106eba"
            },
            "outputs": [
                {
                    "data": {
                        "text/plain": [
                            "Age                     0\n",
                            "Sex                     0\n",
                            "HighChol                0\n",
                            "CholCheck               0\n",
                            "BMI                     0\n",
                            "Smoker                  0\n",
                            "HeartDiseaseorAttack    0\n",
                            "PhysActivity            0\n",
                            "Fruits                  0\n",
                            "Veggies                 0\n",
                            "HvyAlcoholConsump       0\n",
                            "GenHlth                 0\n",
                            "MentHlth                0\n",
                            "PhysHlth                0\n",
                            "DiffWalk                0\n",
                            "Stroke                  0\n",
                            "HighBP                  0\n",
                            "Diabetes                0\n",
                            "dtype: int64"
                        ]
                    },
                    "metadata": {},
                    "output_type": "display_data"
                },
                {
                    "data": {
                        "text/plain": [
                            "age          0\n",
                            "sex         25\n",
                            "cp           0\n",
                            "trestbps     0\n",
                            "chol         0\n",
                            "fbs          0\n",
                            "restecg      0\n",
                            "thalach      0\n",
                            "exang        0\n",
                            "oldpeak      0\n",
                            "slope        0\n",
                            "ca           0\n",
                            "thal         0\n",
                            "target       0\n",
                            "dtype: int64"
                        ]
                    },
                    "metadata": {},
                    "output_type": "display_data"
                },
                {
                    "data": {
                        "text/plain": [
                            "sex                  3\n",
                            "age                  0\n",
                            "hypertension         0\n",
                            "heart_disease        0\n",
                            "ever_married         0\n",
                            "work_type            0\n",
                            "Residence_type       0\n",
                            "avg_glucose_level    0\n",
                            "bmi                  0\n",
                            "smoking_status       0\n",
                            "stroke               0\n",
                            "dtype: int64"
                        ]
                    },
                    "metadata": {},
                    "output_type": "display_data"
                },
                {
                    "data": {
                        "text/plain": [
                            "(70692, 18)"
                        ]
                    },
                    "metadata": {},
                    "output_type": "display_data"
                },
                {
                    "data": {
                        "text/plain": [
                            "(26083, 14)"
                        ]
                    },
                    "metadata": {},
                    "output_type": "display_data"
                },
                {
                    "data": {
                        "text/plain": [
                            "(40910, 11)"
                        ]
                    },
                    "metadata": {},
                    "output_type": "display_data"
                }
            ],
            "source": [
                "# using .isnull.sum to find null values, and get a total of how many null values are present in each df\n",
                "display(diabetes_df.isnull().sum())\n",
                "display(hypertension_df.isnull().sum())\n",
                "display(stroke_df.isnull().sum())\n",
                "\n",
                "# displaying each df(s) shape to remind myself how big each df is\n",
                "display(diabetes_df.shape)\n",
                "display(hypertension_df.shape)\n",
                "display(stroke_df.shape)"
            ]
        },
        {
            "cell_type": "markdown",
            "metadata": {},
            "source": [
                "The null values are a very small piece of each df. Also, replacing the null values with an average is not appropriate in this use case. I will drop the rows from the df that contain null values."
            ]
        },
        {
            "cell_type": "code",
            "execution_count": 5,
            "metadata": {},
            "outputs": [
                {
                    "data": {
                        "text/plain": [
                            "age         0\n",
                            "sex         0\n",
                            "cp          0\n",
                            "trestbps    0\n",
                            "chol        0\n",
                            "fbs         0\n",
                            "restecg     0\n",
                            "thalach     0\n",
                            "exang       0\n",
                            "oldpeak     0\n",
                            "slope       0\n",
                            "ca          0\n",
                            "thal        0\n",
                            "target      0\n",
                            "dtype: int64"
                        ]
                    },
                    "metadata": {},
                    "output_type": "display_data"
                },
                {
                    "data": {
                        "text/plain": [
                            "sex                  0\n",
                            "age                  0\n",
                            "hypertension         0\n",
                            "heart_disease        0\n",
                            "ever_married         0\n",
                            "work_type            0\n",
                            "Residence_type       0\n",
                            "avg_glucose_level    0\n",
                            "bmi                  0\n",
                            "smoking_status       0\n",
                            "stroke               0\n",
                            "dtype: int64"
                        ]
                    },
                    "metadata": {},
                    "output_type": "display_data"
                }
            ],
            "source": [
                "# using .dropna() to drop rows containing null values from hypertension and stroke df\n",
                "hypertension_df = hypertension_df.dropna()\n",
                "stroke_df = stroke_df.dropna()\n",
                "\n",
                "display(hypertension_df.isnull().sum())\n",
                "display(stroke_df.isnull().sum())"
            ]
        },
        {
            "cell_type": "markdown",
            "metadata": {
                "azdata_cell_guid": "1233f543-e9a0-4f78-96f5-d7536554102e"
            },
            "source": [
                "## Irregular Data\n",
                "\n",
                "Detect outliers in your dataset and handle them as needed. Use code comments to make notes about your thought process."
            ]
        },
        {
            "cell_type": "markdown",
            "metadata": {},
            "source": [
                "Most of my data is in the form of a yes \"0\" or no \"1\". There are some columns in each df that could contain outliers:\n",
                "diabetes df: \"BMI\"\n",
                "stroke df: \"avg_glucose_level and bmi"
            ]
        },
        {
            "cell_type": "code",
            "execution_count": 16,
            "metadata": {
                "azdata_cell_guid": "efed50ae-16f0-471d-98e2-632553a74c12"
            },
            "outputs": [
                {
                    "data": {
                        "text/plain": [
                            "count    70692.000000\n",
                            "mean        29.856985\n",
                            "std          7.113954\n",
                            "min         12.000000\n",
                            "25%         25.000000\n",
                            "50%         29.000000\n",
                            "75%         33.000000\n",
                            "max         98.000000\n",
                            "Name: BMI, dtype: float64"
                        ]
                    },
                    "metadata": {},
                    "output_type": "display_data"
                },
                {
                    "name": "stdout",
                    "output_type": "stream",
                    "text": [
                        "45.0\n"
                    ]
                },
                {
                    "data": {
                        "text/plain": [
                            "np.int64(2180)"
                        ]
                    },
                    "metadata": {},
                    "output_type": "display_data"
                },
                {
                    "data": {
                        "image/png": "[encoded data removed]",
                        "text/plain": [
                            "<Figure size 640x480 with 1 Axes>"
                        ]
                    },
                    "metadata": {},
                    "output_type": "display_data"
                }
            ],
            "source": [
                "# using histogram to visualize outliers in diabetes df\n",
                "diabetes_df.plot.hist(column=\"BMI\")\n",
                "\n",
                "# using IQR to find upper a lower fences\n",
                "display(diabetes_df['BMI'].describe())\n",
                "iqr_dbdf=33-25\n",
                "upper_fence_dbdf= 33 + 1.5 * iqr_dbdf\n",
                "print(upper_fence_dbdf)\n",
                "display((diabetes_df['BMI'] > 45).sum())\n"
            ]
        },
        {
            "cell_type": "code",
            "execution_count": 21,
            "metadata": {},
            "outputs": [
                {
                    "data": {
                        "text/plain": [
                            "<Axes: ylabel='Frequency'>"
                        ]
                    },
                    "metadata": {},
                    "output_type": "display_data"
                },
                {
                    "data": {
                        "text/plain": [
                            "<Axes: ylabel='Frequency'>"
                        ]
                    },
                    "metadata": {},
                    "output_type": "display_data"
                },
                {
                    "data": {
                        "text/plain": [
                            "count    40907.000000\n",
                            "mean        30.406488\n",
                            "std          6.835305\n",
                            "min         11.500000\n",
                            "25%         25.900000\n",
                            "50%         29.400000\n",
                            "75%         34.100000\n",
                            "max         92.000000\n",
                            "Name: bmi, dtype: float64"
                        ]
                    },
                    "metadata": {},
                    "output_type": "display_data"
                },
                {
                    "name": "stdout",
                    "output_type": "stream",
                    "text": [
                        "46.400000000000006\n"
                    ]
                },
                {
                    "data": {
                        "text/plain": [
                            "np.int64(915)"
                        ]
                    },
                    "metadata": {},
                    "output_type": "display_data"
                },
                {
                    "data": {
                        "text/plain": [
                            "count    40907.000000\n",
                            "mean       122.079679\n",
                            "std         57.561951\n",
                            "min         55.120000\n",
                            "25%         78.750000\n",
                            "50%         97.920000\n",
                            "75%        167.590000\n",
                            "max        271.740000\n",
                            "Name: avg_glucose_level, dtype: float64"
                        ]
                    },
                    "metadata": {},
                    "output_type": "display_data"
                },
                {
                    "name": "stdout",
                    "output_type": "stream",
                    "text": [
                        "300.85\n"
                    ]
                },
                {
                    "data": {
                        "text/plain": [
                            "np.int64(0)"
                        ]
                    },
                    "metadata": {},
                    "output_type": "display_data"
                },
                {
                    "data": {
                        "image/png": "[encoded data removed]",
                        "text/plain": [
                            "<Figure size 640x480 with 1 Axes>"
                        ]
                    },
                    "metadata": {},
                    "output_type": "display_data"
                },
                {
                    "data": {
                        "image/png": "[encoded data removed]",
                        "text/plain": [
                            "<Figure size 640x480 with 1 Axes>"
                        ]
                    },
                    "metadata": {},
                    "output_type": "display_data"
                }
            ],
            "source": [
                "# using histogram to visualize outliers in stroke df\n",
                "display(stroke_df.plot.hist(column=\"bmi\"))\n",
                "display(stroke_df.plot.hist(column=\"avg_glucose_level\"))\n",
                "\n",
                "\n",
                "# using IQR to find upper a lower fences\n",
                "display(stroke_df['bmi'].describe())\n",
                "iqr_strokebmi=34.1-25.9\n",
                "upper_fence_strokebmi= 34.1 + 1.5 * iqr_strokebmi\n",
                "# lower_fence_strokeavg_glucose= 167.59 + 1.5 * iqr_strokeavg_glucose\n",
                "print(upper_fence_strokebmi)\n",
                "display((stroke_df['bmi'] > 46.4).sum())\n",
                "\n",
                "display(stroke_df['avg_glucose_level'].describe())\n",
                "iqr_strokeavg_glucose=167.59-78.75\n",
                "upper_fence_strokeavg_glucose= 167.59 + 1.5 * iqr_strokeavg_glucose\n",
                "# lower_fence_strokeavg_glucose= 167.59 + 1.5 * iqr_strokeavg_glucose\n",
                "print(upper_fence_strokeavg_glucose)\n",
                "display((stroke_df['avg_glucose_level'] > 300.85).sum())\n"
            ]
        },
        {
            "cell_type": "code",
            "execution_count": 30,
            "metadata": {},
            "outputs": [
                {
                    "data": {
                        "text/plain": [
                            "np.int64(0)"
                        ]
                    },
                    "metadata": {},
                    "output_type": "display_data"
                }
            ],
            "source": [
                "# display((stroke_df['Age'] < 18).sum())\n",
                "stroke_df = stroke_df[stroke_df['Age'] >= 18]\n",
                "display((stroke_df['Age'] < 18).sum())\n"
            ]
        },
        {
            "cell_type": "markdown",
            "metadata": {},
            "source": [
                "Outliers present:\n",
                "Daibetes_df \"BMI\" = upper fence .03%, lower fence\n",
                "stroke_df = \n",
                "\"bmi\": upper fence, lower fence\n",
                "\"avg_glucose_level\": upper fence, lower fence\n",
                "\n",
                "Because the amount of outliers present in the diabetes_df \"BMI\" column are so minimal, (.03%), I will leave them in this df. This also applies to the \"bmi\" column in the stroke_df (.002%). The "
            ]
        },
        {
            "cell_type": "markdown",
            "metadata": {
                "azdata_cell_guid": "6f5b8ee0-bab3-44bc-958a-67d1e4c0407f"
            },
            "source": [
                "## Unnecessary Data\n",
                "\n",
                "Look for the different types of unnecessary data in your dataset and address it as needed. Make sure to use code comments to illustrate your thought process."
            ]
        },
        {
            "cell_type": "markdown",
            "metadata": {},
            "source": [
                "My business issue is looking into which lifestyle factors are positively and negatively associated with each chronic disease. The hypertension df focuses more on health markers, and does not include any lifestyle data. I will drop this df and only join my diabetes and stroke dfs. No action items for now. \n",
                "\n",
                "I may also decide to remove \"HighChol\" and \"BMI\" from diabetes_df as well as \"avg_glucose_level\" and \"bmi\" from the stroke_df. I will leave them for now in case I do choose to include them in visualizations. "
            ]
        },
        {
            "cell_type": "markdown",
            "metadata": {
                "azdata_cell_guid": "53e0cf94-c68a-4fa0-9849-9505a66bcce6"
            },
            "source": [
                "## Inconsistent Data\n",
                "\n",
                "Check for inconsistent data and address any that arises. As always, use code comments to illustrate your thought process."
            ]
        },
        {
            "cell_type": "code",
            "execution_count": 27,
            "metadata": {
                "azdata_cell_guid": "e9de6624-812a-43f8-8e20-93b4a49b091f"
            },
            "outputs": [
                {
                    "data": {
                        "text/plain": [
                            "Index(['Age', 'Sex', 'HighChol', 'CholCheck', 'BMI', 'smoker',\n",
                            "       'HeartDiseaseorAttack', 'PhysActivity', 'Fruits', 'Veggies',\n",
                            "       'HvyAlcoholConsump', 'GenHlth', 'MentHlth', 'PhysHlth',\n",
                            "       'DifficultyWalk', 'Stroke', 'HighBP', 'Diabetes'],\n",
                            "      dtype='object')"
                        ]
                    },
                    "execution_count": 27,
                    "metadata": {},
                    "output_type": "execute_result"
                }
            ],
            "source": [
                "#  I will clean up columns headers to match where possible in each df. \n",
                "# diabetes_df.columns=['Age', 'Sex', 'HighChol', 'CholCheck', 'BMI', 'smoker',\n",
                "#        'HeartDiseaseorAttack', 'PhysActivity', 'Fruits', 'Veggies',\n",
                "#        'HvyAlcoholConsump', 'GenHlth', 'MentHlth', 'PhysHlth', 'DifficultyWalk',\n",
                "#        'Stroke', 'HighBP', 'Diabetes']\n",
                "diabetes_df.columns\n",
                "# stroke_df.columns=['Sex', 'Age', 'Hypertension', 'HeartDisease', 'EverMarried',\n",
                "#        'WorkType', 'ResidenceType', 'AvgGlucoseLevel', 'BMI',\n",
                "#        'SmokingStatus', 'Stroke']\n",
                "stroke_df.columns\n",
                "\n",
                "# I will also combine the age in years in the stroke df to match the categories used in the diabetes df. I will use a function to do so.\n",
                "def years_to_categories(age):\n",
                "    if 18 <= age <= 24:\n",
                "        return 1\n",
                "    elif 25 <= age <= 29:\n",
                "        return 2\n",
                "    elif 30 <= age <= 34:\n",
                "        return 3 \n",
                "    elif 35 <= age <= 39:\n",
                "        return 4\n",
                "    elif 40 <= age <= 44:\n",
                "        return 5\n",
                "    elif 45 <= age <= 49:\n",
                "        return 6\n",
                "    elif 50 <= age <= 54:\n",
                "        return 7\n",
                "    elif 55 <= age <= 59:\n",
                "        return 8\n",
                "    elif 60 <= age <= 64:\n",
                "        return 9\n",
                "    elif 65 <= age <= 69:\n",
                "        return 10\n",
                "    elif 70 <= age <= 74:\n",
                "        reutrn 11\n",
                "    elif 75 <= age <= 79:\n",
                "        return 12\n",
                "    elif age >= 80:\n",
                "        return 13\n",
                "\n",
                "stroke_df[]\n",
                "    1=18-24 2=25-29 3=30-34 4=35-39 5=40-44 6=45-49 7=50-54 8=50-59 9=60-64 10=65-69 11=70-74 12=75-79 13=80 or older"
            ]
        },
        {
            "cell_type": "markdown",
            "metadata": {
                "azdata_cell_guid": "dedc0bfe-17d0-40b2-914f-2ddb54f9ce0d"
            },
            "source": [
                "## Summarize Your Results\n",
                "\n",
                "Make note of your answers to the following questions.\n",
                "\n",
                "1. Did you find all four types of dirty data in your dataset?\n",
                "Yes, all four types of dirty data was found in my dataset. However, I did not find the need to clean all of this data as it was not neccessary for each case. \n",
                "\n",
                "2. Did the process of cleaning your data give you new insights into your dataset?\n",
                "Yes - I found myself more hesitant to clean certain data as I kept asking myself \"will this serve me in the future?\" Also, my dfs are so large, the data that needed to be cleaned was so nominal, it likely will not cause much of a difference if it is left in the df. Also, the business issue at hand does not necessarily deal with alot of the data I found that needed cleaning. \n",
                "\n",
                "3. Is there anything you would like to make note of when it comes to manipulating the data and making visualizations?\n",
                "I need to think about how I want to join these dfs into one to make them easier to work out of. "
            ]
        }
    ],
    "metadata": {
        "kernelspec": {
            "display_name": "Python 3",
            "language": "python",
            "name": "python3"
        },
        "language_info": {
            "codemirror_mode": {
                "name": "ipython",
                "version": 3
            },
            "file_extension": ".py",
            "mimetype": "text/x-python",
            "name": "python",
            "nbconvert_exporter": "python",
            "pygments_lexer": "ipython3",
            "version": "3.12.3"
        }
    },
    "nbformat": 4,
    "nbformat_minor": 2
}
