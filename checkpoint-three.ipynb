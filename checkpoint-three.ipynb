{
    "cells": [
        {
            "attachments": {},
            "cell_type": "markdown",
            "metadata": {
                "azdata_cell_guid": "26037d32-2047-4157-81ef-595916bd66a0"
            },
            "source": [
                "# Checkpoint Three: Cleaning Data\n",
                "\n",
                "Now you are ready to clean your data. Before starting coding, provide the link to your dataset below.\n",
                "\n",
                "My dataset: https://www.kaggle.com/datasets/prosperchuks/health-dataset?resource=download&select=hypertension_data.csv\n",
                "\n",
                "Import the necessary libraries and create your dataframe(s)."
            ]
        },
        {
            "cell_type": "code",
            "execution_count": 2,
            "metadata": {
                "azdata_cell_guid": "e8adef8e-d0f2-4640-a179-5997f11e82ca"
            },
            "outputs": [],
            "source": [
                "import pandas as pd\n",
                "import numpy as np\n",
                "import seaborn as sns\n",
                "import matplotlib.pyplot as plt\n",
                "\n",
                "# Create three new dataframes for each csv\n",
                "diabetes_df = pd.read_csv(r\"diabetes_data.csv\")\n",
                "hypertension_df = pd.read_csv(r\"hypertension_data.csv\")\n",
                "stroke_df = pd.read_csv(r\"stroke_data.csv\")\n"
            ]
        },
        {
            "cell_type": "markdown",
            "metadata": {
                "azdata_cell_guid": "e172475a-c4ee-414a-8367-9965355dbba6"
            },
            "source": [
                "## Missing Data\n",
                "\n",
                "Test your dataset for missing data and handle it as needed. Make notes in the form of code comments as to your thought process."
            ]
        },
        {
            "cell_type": "code",
            "execution_count": 4,
            "metadata": {
                "azdata_cell_guid": "e1dc66ef-e471-4c27-92e7-ee878c106eba"
            },
            "outputs": [
                {
                    "data": {
                        "text/plain": [
                            "Age                     0\n",
                            "Sex                     0\n",
                            "HighChol                0\n",
                            "CholCheck               0\n",
                            "BMI                     0\n",
                            "Smoker                  0\n",
                            "HeartDiseaseorAttack    0\n",
                            "PhysActivity            0\n",
                            "Fruits                  0\n",
                            "Veggies                 0\n",
                            "HvyAlcoholConsump       0\n",
                            "GenHlth                 0\n",
                            "MentHlth                0\n",
                            "PhysHlth                0\n",
                            "DiffWalk                0\n",
                            "Stroke                  0\n",
                            "HighBP                  0\n",
                            "Diabetes                0\n",
                            "dtype: int64"
                        ]
                    },
                    "metadata": {},
                    "output_type": "display_data"
                },
                {
                    "data": {
                        "text/plain": [
                            "age          0\n",
                            "sex         25\n",
                            "cp           0\n",
                            "trestbps     0\n",
                            "chol         0\n",
                            "fbs          0\n",
                            "restecg      0\n",
                            "thalach      0\n",
                            "exang        0\n",
                            "oldpeak      0\n",
                            "slope        0\n",
                            "ca           0\n",
                            "thal         0\n",
                            "target       0\n",
                            "dtype: int64"
                        ]
                    },
                    "metadata": {},
                    "output_type": "display_data"
                },
                {
                    "data": {
                        "text/plain": [
                            "sex                  3\n",
                            "age                  0\n",
                            "hypertension         0\n",
                            "heart_disease        0\n",
                            "ever_married         0\n",
                            "work_type            0\n",
                            "Residence_type       0\n",
                            "avg_glucose_level    0\n",
                            "bmi                  0\n",
                            "smoking_status       0\n",
                            "stroke               0\n",
                            "dtype: int64"
                        ]
                    },
                    "metadata": {},
                    "output_type": "display_data"
                },
                {
                    "data": {
                        "text/plain": [
                            "(70692, 18)"
                        ]
                    },
                    "metadata": {},
                    "output_type": "display_data"
                },
                {
                    "data": {
                        "text/plain": [
                            "(26083, 14)"
                        ]
                    },
                    "metadata": {},
                    "output_type": "display_data"
                },
                {
                    "data": {
                        "text/plain": [
                            "(40910, 11)"
                        ]
                    },
                    "metadata": {},
                    "output_type": "display_data"
                }
            ],
            "source": [
                "# using .isnull.sum to find null values, and get a total of how many null values are present in each df\n",
                "display(diabetes_df.isnull().sum())\n",
                "display(hypertension_df.isnull().sum())\n",
                "display(stroke_df.isnull().sum())\n",
                "\n",
                "# displaying each df(s) shape to remind myself how big each df is\n",
                "display(diabetes_df.shape)\n",
                "display(hypertension_df.shape)\n",
                "display(stroke_df.shape)"
            ]
        },
        {
            "cell_type": "markdown",
            "metadata": {},
            "source": [
                "The null values are a very small piece of each df. Also, replacing the null values with an average is not appropriate in this use case. I will drop the rows from the df that contain null values."
            ]
        },
        {
            "cell_type": "code",
            "execution_count": 5,
            "metadata": {},
            "outputs": [
                {
                    "data": {
                        "text/plain": [
                            "age         0\n",
                            "sex         0\n",
                            "cp          0\n",
                            "trestbps    0\n",
                            "chol        0\n",
                            "fbs         0\n",
                            "restecg     0\n",
                            "thalach     0\n",
                            "exang       0\n",
                            "oldpeak     0\n",
                            "slope       0\n",
                            "ca          0\n",
                            "thal        0\n",
                            "target      0\n",
                            "dtype: int64"
                        ]
                    },
                    "metadata": {},
                    "output_type": "display_data"
                },
                {
                    "data": {
                        "text/plain": [
                            "sex                  0\n",
                            "age                  0\n",
                            "hypertension         0\n",
                            "heart_disease        0\n",
                            "ever_married         0\n",
                            "work_type            0\n",
                            "Residence_type       0\n",
                            "avg_glucose_level    0\n",
                            "bmi                  0\n",
                            "smoking_status       0\n",
                            "stroke               0\n",
                            "dtype: int64"
                        ]
                    },
                    "metadata": {},
                    "output_type": "display_data"
                }
            ],
            "source": [
                "# using .dropna() to drop rows containing null values from hypertension and stroke df\n",
                "hypertension_df = hypertension_df.dropna()\n",
                "stroke_df = stroke_df.dropna()\n",
                "\n",
                "display(hypertension_df.isnull().sum())\n",
                "display(stroke_df.isnull().sum())"
            ]
        },
        {
            "cell_type": "markdown",
            "metadata": {
                "azdata_cell_guid": "1233f543-e9a0-4f78-96f5-d7536554102e"
            },
            "source": [
                "## Irregular Data\n",
                "\n",
                "Detect outliers in your dataset and handle them as needed. Use code comments to make notes about your thought process."
            ]
        },
        {
            "cell_type": "markdown",
            "metadata": {},
            "source": [
                "Most of my data is in the form of a yes \"0\" or no \"1\". There are some columns in each df that could contain outliers:\n",
                "diabetes df: \"BMI\"\n",
                "stroke df: \"avg_glucose_level and bmi"
            ]
        },
        {
            "cell_type": "code",
            "execution_count": 16,
            "metadata": {
                "azdata_cell_guid": "efed50ae-16f0-471d-98e2-632553a74c12"
            },
            "outputs": [
                {
                    "data": {
                        "text/plain": [
                            "count    70692.000000\n",
                            "mean        29.856985\n",
                            "std          7.113954\n",
                            "min         12.000000\n",
                            "25%         25.000000\n",
                            "50%         29.000000\n",
                            "75%         33.000000\n",
                            "max         98.000000\n",
                            "Name: BMI, dtype: float64"
                        ]
                    },
                    "metadata": {},
                    "output_type": "display_data"
                },
                {
                    "name": "stdout",
                    "output_type": "stream",
                    "text": [
                        "45.0\n"
                    ]
                },
                {
                    "data": {
                        "text/plain": [
                            "np.int64(2180)"
                        ]
                    },
                    "metadata": {},
                    "output_type": "display_data"
                },
                {
                    "data": {
                        "image/png": "[encoded data removed]",
                        "text/plain": [
                            "<Figure size 640x480 with 1 Axes>"
                        ]
                    },
                    "metadata": {},
                    "output_type": "display_data"
                }
            ],
            "source": [
                "# using histogram to visualize outliers\n",
                "diabetes_df.plot.hist(column=\"BMI\")\n",
                "\n",
                "display(diabetes_df['BMI'].describe())\n",
                "iqr_dbdf=33-25\n",
                "upper_fence_dbdf= 33 + 1.5 * iqr_dbdf\n",
                "print(upper_fence_dbdf)\n",
                "display((diabetes_df['BMI'] > 45).sum())\n"
            ]
        },
        {
            "cell_type": "markdown",
            "metadata": {},
            "source": [
                "Because the amount of outliers present in the diabetes_df \"BMI\" column are so minimal, (.03%), I will leave them in this df. "
            ]
        },
        {
            "cell_type": "markdown",
            "metadata": {
                "azdata_cell_guid": "6f5b8ee0-bab3-44bc-958a-67d1e4c0407f"
            },
            "source": [
                "## Unnecessary Data\n",
                "\n",
                "Look for the different types of unnecessary data in your dataset and address it as needed. Make sure to use code comments to illustrate your thought process."
            ]
        },
        {
            "cell_type": "markdown",
            "metadata": {},
            "source": [
                "My business issue is looking into which lifestyle factors are positively and negatively associated with each chronic disease. The hypertension df focuses more on health markers, and does not include any lifestyle data. I will drop this df and only join my diabetes and stroke dfs. No action items for now. \n",
                "\n",
                "I may also decide to remove \"HighChol\" and \"BMI\" from diabetes_df as well as \"avg_glucose_level\" and \"bmi\" from the stroke_df. I will leave them for now in case I do choose to include them in visualizations. "
            ]
        },
        {
            "cell_type": "markdown",
            "metadata": {
                "azdata_cell_guid": "53e0cf94-c68a-4fa0-9849-9505a66bcce6"
            },
            "source": [
                "## Inconsistent Data\n",
                "\n",
                "Check for inconsistent data and address any that arises. As always, use code comments to illustrate your thought process."
            ]
        },
        {
            "cell_type": "code",
            "execution_count": null,
            "metadata": {
                "azdata_cell_guid": "e9de6624-812a-43f8-8e20-93b4a49b091f"
            },
            "outputs": [],
            "source": [
                "#  I will clean up columns headers to match where possible in each df. \n",
                "\n",
                "# I will also combine the age in years in the stroke df to match the categories used in the diabetes df. "
            ]
        },
        {
            "cell_type": "markdown",
            "metadata": {
                "azdata_cell_guid": "dedc0bfe-17d0-40b2-914f-2ddb54f9ce0d"
            },
            "source": [
                "## Summarize Your Results\n",
                "\n",
                "Make note of your answers to the following questions.\n",
                "\n",
                "1. Did you find all four types of dirty data in your dataset?\n",
                "Yes, all four types of dirty data was found in my dataset. However, I did not find the need to clean all of this data as it was not neccessary for each case. \n",
                "\n",
                "2. Did the process of cleaning your data give you new insights into your dataset?\n",
                "Yes - I found myself more hesitant to clean certain data as I kept asking myself \"will this serve me in the future?\" Also, my dfs are so large, the data that needed to be cleaned was so nominal, it likely will not cause much of a difference if it is left in the df. Also, the business issue at hand does not necessarily deal with alot of the data I found that needed cleaning. \n",
                "\n",
                "3. Is there anything you would like to make note of when it comes to manipulating the data and making visualizations?\n",
                "I need to think about how I want to join these dfs into one to make them easier to work out of. "
            ]
        }
    ],
    "metadata": {
        "kernelspec": {
            "display_name": "Python 3",
            "language": "python",
            "name": "python3"
        },
        "language_info": {
            "codemirror_mode": {
                "name": "ipython",
                "version": 3
            },
            "file_extension": ".py",
            "mimetype": "text/x-python",
            "name": "python",
            "nbconvert_exporter": "python",
            "pygments_lexer": "ipython3",
            "version": "3.12.3"
        }
    },
    "nbformat": 4,
    "nbformat_minor": 2
}
